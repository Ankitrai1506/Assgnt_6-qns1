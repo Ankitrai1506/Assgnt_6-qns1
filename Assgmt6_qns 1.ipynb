{
 "cells": [
  {
   "cell_type": "raw",
   "id": "53a46a06",
   "metadata": {},
   "source": [
    "## Question 1"
   ]
  },
  {
   "cell_type": "code",
   "execution_count": null,
   "id": "9776821b",
   "metadata": {},
   "outputs": [],
   "source": [
    "import json"
   ]
  },
  {
   "cell_type": "code",
   "execution_count": 10,
   "id": "31276044",
   "metadata": {
    "scrolled": true
   },
   "outputs": [
    {
     "name": "stdout",
     "output_type": "stream",
     "text": [
      "Name: Raj\n",
      "DOB: 1994-05-15\n",
      "Height: 175\n",
      "City: Delhi\n",
      "State: DL\n",
      "\n",
      "Name: Rohit\n",
      "DOB: 2000-12-03\n",
      "Height: 162\n",
      "City: Pune\n",
      "State: MH\n",
      "\n",
      "Name: Raman\n",
      "DOB: 1999-08-21\n",
      "Height: 180\n",
      "City: Lucknow\n",
      "State: UP\n",
      "\n",
      "Name: Manish\n",
      "DOB: 1997-04-10\n",
      "Height: 158\n",
      "City: Bhopal\n",
      "State: MP\n",
      "\n",
      "Name: Arpita\n",
      "DOB: 1998-11-28\n",
      "Height: 170\n",
      "City: Bhuvaneshwar\n",
      "State: OD\n",
      "\n"
     ]
    }
   ],
   "source": [
    "class Employee:\n",
    "    def __init__(self, name, dob, height, city, state):\n",
    "        self.name = name\n",
    "        self.dob = dob\n",
    "        self.height = height\n",
    "        self.city = city\n",
    "        self.state = state\n",
    "\n",
    "def main():\n",
    "    employees = []\n",
    "    \n",
    "    with open('Employee.json', 'r') as file_handler:\n",
    "        data = json.load(file_handler)\n",
    "        \n",
    "        for entry in data:\n",
    "            employee = Employee(\n",
    "                entry['Name'],\n",
    "                entry['DOB'],\n",
    "                entry['Height'],\n",
    "                entry['City'],\n",
    "                entry['State']\n",
    "            )\n",
    "            employees.append(employee)\n",
    "    \n",
    "    for employee in employees:\n",
    "        print(f\"Name: {employee.name}\")\n",
    "        print(f\"DOB: {employee.dob}\")\n",
    "        print(f\"Height: {employee.height}\")\n",
    "        print(f\"City: {employee.city}\")\n",
    "        print(f\"State: {employee.state}\")\n",
    "        print()\n",
    "\n",
    "if __name__ == \"__main__\":\n",
    "    main()"
   ]
  },
  {
   "cell_type": "raw",
   "id": "5ba88ae5",
   "metadata": {},
   "source": [
    "##question 2"
   ]
  },
  {
   "cell_type": "code",
   "execution_count": 13,
   "id": "e3e53ca1",
   "metadata": {},
   "outputs": [],
   "source": [
    "import json\n",
    "\n",
    "indian_states = {\n",
    "    \"Bihar\": \"Patna\",\n",
    "    \"Maharastra\": \"Mumbai\",\n",
    "    \"Uttar Pradesh\": \"Lucknow\",\n",
    "    \"Gujarat\": \"Gandhinagar\",\n",
    "    \"Karnataka\": \"Bengaluru\",\n",
    "    \"Kerala\": \"Thiruvananthapuram\",\n",
    "    \"Rajasthan\": \"Jaipur\"\n",
    "}\n",
    "\n",
    "with open('indian_states.json', 'w') as json_file:\n",
    "    json.dump(indian_states, json_file, indent=4)\n",
    "\n"
   ]
  },
  {
   "cell_type": "code",
   "execution_count": null,
   "id": "00f42a0d",
   "metadata": {},
   "outputs": [],
   "source": []
  }
 ],
 "metadata": {
  "kernelspec": {
   "display_name": "Python 3 (ipykernel)",
   "language": "python",
   "name": "python3"
  },
  "language_info": {
   "codemirror_mode": {
    "name": "ipython",
    "version": 3
   },
   "file_extension": ".py",
   "mimetype": "text/x-python",
   "name": "python",
   "nbconvert_exporter": "python",
   "pygments_lexer": "ipython3",
   "version": "3.10.9"
  }
 },
 "nbformat": 4,
 "nbformat_minor": 5
}
